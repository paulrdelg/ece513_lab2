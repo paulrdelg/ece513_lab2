{
 "cells": [
  {
   "cell_type": "code",
   "execution_count": 10,
   "id": "sensitive-forth",
   "metadata": {},
   "outputs": [],
   "source": [
    "# Standard Python Packages\n",
    "import os\n",
    "import platform\n",
    "import sys\n",
    "\n",
    "# Common Third-Party Packages\n",
    "import cv2\n",
    "import matplotlib as mpl\n",
    "import matplotlib.image as mpimg\n",
    "import matplotlib.pyplot as plt\n",
    "import numpy as np\n",
    "import PIL\n",
    "from sklearn.decomposition import PCA\n",
    "\n",
    "# Custom\n",
    "import lab2"
   ]
  },
  {
   "cell_type": "code",
   "execution_count": 11,
   "id": "affiliated-romance",
   "metadata": {},
   "outputs": [],
   "source": [
    "# Read image file\n",
    "filepath = 'pepper_copy.PNG'\n",
    "title = 'Copy of Pepper Image (Uncompressed)'\n",
    "\n",
    "# Read image\n",
    "#img = cv2.imread(filepath)\n",
    "#img = mpl.image.imread(filepath)\n",
    "img = PIL.Image.open(filepath)"
   ]
  },
  {
   "cell_type": "code",
   "execution_count": 12,
   "id": "collaborative-midnight",
   "metadata": {},
   "outputs": [
    {
     "name": "stdout",
     "output_type": "stream",
     "text": [
      "PNG\n",
      "RGBA\n"
     ]
    }
   ],
   "source": [
    "# Output Images\n",
    "img.show()\n",
    "\n",
    "# prints format of image\n",
    "print(img.format)\n",
    "\n",
    "# prints mode of image\n",
    "print(img.mode)"
   ]
  },
  {
   "cell_type": "code",
   "execution_count": 13,
   "id": "radical-germany",
   "metadata": {},
   "outputs": [],
   "source": [
    "# Define block sizes\n",
    "block_sizes = [8, 16]"
   ]
  },
  {
   "cell_type": "code",
   "execution_count": null,
   "id": "convertible-vienna",
   "metadata": {},
   "outputs": [],
   "source": []
  },
  {
   "cell_type": "code",
   "execution_count": null,
   "id": "specialized-genome",
   "metadata": {},
   "outputs": [],
   "source": []
  },
  {
   "cell_type": "code",
   "execution_count": null,
   "id": "fabulous-collapse",
   "metadata": {},
   "outputs": [],
   "source": []
  }
 ],
 "metadata": {
  "kernelspec": {
   "display_name": "Python 3",
   "language": "python",
   "name": "python3"
  },
  "language_info": {
   "codemirror_mode": {
    "name": "ipython",
    "version": 3
   },
   "file_extension": ".py",
   "mimetype": "text/x-python",
   "name": "python",
   "nbconvert_exporter": "python",
   "pygments_lexer": "ipython3",
   "version": "3.9.2"
  }
 },
 "nbformat": 4,
 "nbformat_minor": 5
}
