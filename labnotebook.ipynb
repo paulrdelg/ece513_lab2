{
 "cells": [
  {
   "cell_type": "code",
   "execution_count": 2,
   "id": "comparative-spirituality",
   "metadata": {},
   "outputs": [],
   "source": [
    "# Standard Python Packages\n",
    "import os\n",
    "import platform\n",
    "import sys\n",
    "\n",
    "# Common Third-Party Packages\n",
    "import cv2\n",
    "import matplotlib as mpl\n",
    "import matplotlib.image as mpimg\n",
    "import matplotlib.pyplot as plt\n",
    "import numpy as np\n",
    "import PIL\n",
    "from sklearn.decomposition import PCA\n",
    "\n",
    "# Custom\n",
    "import lab2"
   ]
  },
  {
   "cell_type": "code",
   "execution_count": 6,
   "id": "distinguished-cigarette",
   "metadata": {},
   "outputs": [
    {
     "name": "stdout",
     "output_type": "stream",
     "text": [
      "PNG\n",
      "RGBA\n"
     ]
    }
   ],
   "source": [
    "# Read image file\n",
    "filepath = 'pepper_copy.PNG'\n",
    "title = 'Copy of Pepper Image (Uncompressed)'\n",
    "\n",
    "# Read image\n",
    "#img = cv2.imread(filepath)\n",
    "#img = mpl.image.imread(filepath)\n",
    "img = PIL.Image.open(filepath)"
   ]
  },
  {
   "cell_type": "code",
   "execution_count": 4,
   "id": "equivalent-nightlife",
   "metadata": {},
   "outputs": [],
   "source": [
    "# Output Images\n",
    "img.show()\n",
    "\n",
    "# prints format of image\n",
    "print(img.format)\n",
    "\n",
    "# prints mode of image\n",
    "print(img.mode)"
   ]
  },
  {
   "cell_type": "code",
   "execution_count": null,
   "id": "geographic-veteran",
   "metadata": {},
   "outputs": [],
   "source": []
  },
  {
   "cell_type": "code",
   "execution_count": null,
   "id": "guilty-pierce",
   "metadata": {},
   "outputs": [],
   "source": []
  },
  {
   "cell_type": "code",
   "execution_count": null,
   "id": "alien-grenada",
   "metadata": {},
   "outputs": [],
   "source": []
  },
  {
   "cell_type": "code",
   "execution_count": null,
   "id": "legitimate-weekend",
   "metadata": {},
   "outputs": [],
   "source": []
  }
 ],
 "metadata": {
  "kernelspec": {
   "display_name": "Python 3",
   "language": "python",
   "name": "python3"
  },
  "language_info": {
   "codemirror_mode": {
    "name": "ipython",
    "version": 3
   },
   "file_extension": ".py",
   "mimetype": "text/x-python",
   "name": "python",
   "nbconvert_exporter": "python",
   "pygments_lexer": "ipython3",
   "version": "3.9.2"
  }
 },
 "nbformat": 4,
 "nbformat_minor": 5
}
